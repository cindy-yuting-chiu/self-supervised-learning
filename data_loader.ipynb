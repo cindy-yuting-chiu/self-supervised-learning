{
  "nbformat": 4,
  "nbformat_minor": 0,
  "metadata": {
    "colab": {
      "provenance": []
    },
    "kernelspec": {
      "name": "python3",
      "display_name": "Python 3"
    },
    "language_info": {
      "name": "python"
    },
    "accelerator": "GPU",
    "gpuClass": "standard"
  },
  "cells": [
    {
      "cell_type": "code",
      "source": [
        "import torch\n",
        "import torch.nn as nn\n",
        "import torch.nn.functional as F\n",
        "import torch.optim as optim\n",
        "from torchvision import datasets, transforms\n",
        "import matplotlib.pyplot as plt\n",
        "import numpy as np\n",
        "import random\n",
        "\n",
        "device = \"cuda\" if torch.cuda.is_available() else \"cpu\"\n",
        "print(\"device:\", device)"
      ],
      "metadata": {
        "colab": {
          "base_uri": "https://localhost:8080/"
        },
        "id": "TE_7CfjyQPQK",
        "outputId": "24cb21b6-4dd5-42d7-ac45-e2ded006c72a"
      },
      "execution_count": 1,
      "outputs": [
        {
          "output_type": "stream",
          "name": "stdout",
          "text": [
            "device: cuda\n"
          ]
        }
      ]
    },
    {
      "cell_type": "code",
      "execution_count": 13,
      "metadata": {
        "colab": {
          "base_uri": "https://localhost:8080/"
        },
        "id": "pKQXL819Ocrj",
        "outputId": "27941fbd-6bce-462f-b975-712953c4d724"
      },
      "outputs": [
        {
          "output_type": "stream",
          "name": "stdout",
          "text": [
            "Files already downloaded and verified\n"
          ]
        }
      ],
      "source": [
        "BATCH_SIZE = 32\n",
        "\n",
        "trainset = torch.utils.data.DataLoader(\n",
        "    datasets.CIFAR10('./data', train=True, download=True, transform=transforms.ToTensor()),\n",
        "    batch_size = BATCH_SIZE, shuffle=True, )"
      ]
    },
    {
      "cell_type": "code",
      "source": [
        "def get_color_distortion(s:float=0.5):\n",
        "    \"\"\"\n",
        "    Function from the paper that create color distortion \n",
        "    s: float, the strength of color distortion, for CIFAR 10, the paper use 0.5\n",
        "    \"\"\"\n",
        "    color_jitter = transforms.ColorJitter(0.8*s, 0.8*s, 0.8*s, 0.2*s)\n",
        "    rnd_color_jitter = transforms.RandomApply([color_jitter], p=0.8)\n",
        "    rnd_gray = transforms.RandomGrayscale(p=0.2)\n",
        "    color_distort = transforms.Compose([rnd_color_jitter, rnd_gray])\n",
        "    return color_distort"
      ],
      "metadata": {
        "id": "RgF57_f3Sw8N"
      },
      "execution_count": 19,
      "outputs": []
    },
    {
      "cell_type": "code",
      "source": [
        "train_transform = transforms.Compose([\n",
        "            # make sure we're using PIL instead of tensor when doing other transform \n",
        "            transforms.ToPILImage(),\n",
        "            #transforms.GaussianBlur(23, sigma=(0.1, 2.0)), # CIFAR 10 doesn't use gaussian blur\n",
        "            transforms.RandomResizedCrop(size=32,scale=(0.08,0.1),ratio=(0.75,1.33)),\n",
        "            transforms.RandomHorizontalFlip(p=0.5),\n",
        "            get_color_distortion(),\n",
        "            transforms.ToTensor(),])"
      ],
      "metadata": {
        "id": "6mobadHTSyVI"
      },
      "execution_count": 27,
      "outputs": []
    },
    {
      "cell_type": "code",
      "source": [
        "# loop through each batch in trainset \n",
        "for data, label in trainset:\n",
        "    for ind_img in range(BATCH_SIZE): # loop through each image in batch \n",
        "        par_tensor = data[ind_img]\n",
        "        cur_tensor_0 = train_transform(par_tensor) # first aug\n",
        "        cur_tensor_1 = train_transform(par_tensor) # second aug \n",
        "        # resize \n",
        "        cur_tensor_0, cur_tensor_1 = torch.unsqueeze(cur_tensor_0, 0), torch.unsqueeze(cur_tensor_1, 0) \n",
        "        # if this is the first image in the batch, we just concat the 2 data aug \n",
        "        if ind_img == 0:\n",
        "            total_tensor = torch.cat((cur_tensor_0, cur_tensor_1), dim=0)\n",
        "        # else append to the previous augmented pair in the batch \n",
        "        else:\n",
        "            total_tensor = torch.cat((total_tensor, cur_tensor_0, cur_tensor_1), dim=0)\n",
        "        \n",
        "\n",
        "    # pass <total_tensor> into the model \n",
        "    # yhat = net(total_tensor)\n",
        "    # calculate loss \n",
        "    # loss = compute_loss(yhat)\n",
        "    ### if ind % 2 == 0: j = ind + 1\n",
        "    ### \n",
        "    # loss.backward()\n",
        "    # optimizer.step()\n",
        "    print(total_tensor.shape)  \n",
        "    break\n",
        "        "
      ],
      "metadata": {
        "colab": {
          "base_uri": "https://localhost:8080/"
        },
        "id": "Mir0ML6bQ2Jy",
        "outputId": "cd3608cb-0d99-44f9-a343-31ea0217e807"
      },
      "execution_count": 36,
      "outputs": [
        {
          "output_type": "stream",
          "name": "stdout",
          "text": [
            "torch.Size([64, 3, 32, 32])\n"
          ]
        }
      ]
    },
    {
      "cell_type": "code",
      "source": [],
      "metadata": {
        "id": "f1MYfjCMREKI"
      },
      "execution_count": null,
      "outputs": []
    }
  ]
}