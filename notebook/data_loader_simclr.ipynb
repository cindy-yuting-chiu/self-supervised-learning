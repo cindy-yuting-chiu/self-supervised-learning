{
  "cells": [
    {
      "cell_type": "code",
      "execution_count": null,
      "metadata": {
        "colab": {
          "base_uri": "https://localhost:8080/"
        },
        "id": "W7aNXzLnXleO",
        "outputId": "78dbfeb9-13be-4871-f451-8b0013935323"
      },
      "outputs": [
        {
          "name": "stdout",
          "output_type": "stream",
          "text": [
            "/content/drive/MyDrive/ecehw/project\n"
          ]
        }
      ],
      "source": [
        "%cd '/content/drive/MyDrive/ecehw/project'"
      ]
    },
    {
      "cell_type": "code",
      "execution_count": null,
      "metadata": {
        "colab": {
          "base_uri": "https://localhost:8080/"
        },
        "id": "TE_7CfjyQPQK",
        "outputId": "9b658e97-f84b-4ef7-d37f-c65acb418b11"
      },
      "outputs": [
        {
          "name": "stdout",
          "output_type": "stream",
          "text": [
            "device: cuda\n"
          ]
        }
      ],
      "source": [
        "import torch\n",
        "import torch.nn as nn\n",
        "import torch.nn.functional as F\n",
        "import torch.optim as optim\n",
        "from torchvision import datasets, transforms\n",
        "import matplotlib.pyplot as plt\n",
        "import numpy as np\n",
        "import random\n",
        "\n",
        "from resnet import ResNet18, MLP, Block\n",
        "\n",
        "device = \"cuda\" if torch.cuda.is_available() else \"cpu\"\n",
        "print(\"device:\", device)"
      ]
    },
    {
      "cell_type": "code",
      "execution_count": null,
      "metadata": {
        "colab": {
          "base_uri": "https://localhost:8080/"
        },
        "id": "pKQXL819Ocrj",
        "outputId": "cd6bbea0-8997-41e0-fb9a-31d1f7e74b67"
      },
      "outputs": [
        {
          "name": "stdout",
          "output_type": "stream",
          "text": [
            "Files already downloaded and verified\n"
          ]
        }
      ],
      "source": [
        "BATCH_SIZE = 256\n",
        "\n",
        "trainset = torch.utils.data.DataLoader(\n",
        "    datasets.CIFAR10('./data', train=True, download=True, transform=transforms.ToTensor()),\n",
        "    batch_size = BATCH_SIZE, shuffle=True, )"
      ]
    },
    {
      "cell_type": "code",
      "execution_count": null,
      "metadata": {
        "id": "RgF57_f3Sw8N"
      },
      "outputs": [],
      "source": [
        "def get_color_distortion(s:float=0.5):\n",
        "    \"\"\"\n",
        "    Function from the paper that create color distortion \n",
        "    s: float, the strength of color distortion, for CIFAR 10, the paper use 0.5\n",
        "    \"\"\"\n",
        "    color_jitter = transforms.ColorJitter(0.8*s, 0.8*s, 0.8*s, 0.2*s)\n",
        "    rnd_color_jitter = transforms.RandomApply([color_jitter], p=0.8)\n",
        "    rnd_gray = transforms.RandomGrayscale(p=0.2)\n",
        "    color_distort = transforms.Compose([rnd_color_jitter, rnd_gray])\n",
        "    return color_distort"
      ]
    },
    {
      "cell_type": "code",
      "execution_count": null,
      "metadata": {
        "id": "6mobadHTSyVI"
      },
      "outputs": [],
      "source": [
        "train_transform = transforms.Compose([\n",
        "            # make sure we're using PIL instead of tensor when doing other transform \n",
        "            transforms.ToPILImage(),\n",
        "            #transforms.GaussianBlur(23, sigma=(0.1, 2.0)), # CIFAR 10 doesn't use gaussian blur\n",
        "            transforms.RandomResizedCrop(size=32,scale=(0.08,0.1),ratio=(0.75,1.33)),\n",
        "            transforms.RandomHorizontalFlip(p=0.5),\n",
        "            get_color_distortion(),\n",
        "            transforms.ToTensor(),])"
      ]
    },
    {
      "cell_type": "code",
      "execution_count": null,
      "metadata": {
        "colab": {
          "base_uri": "https://localhost:8080/"
        },
        "id": "cxUPRNVOYQ-M",
        "outputId": "4ddd9565-5839-4da8-ab52-f21a89061698"
      },
      "outputs": [
        {
          "data": {
            "text/plain": [
              "Sequential(\n",
              "  (0): ResNet18(\n",
              "    (conv1): Conv2d(3, 64, kernel_size=(3, 3), stride=(1, 1), padding=(1, 1))\n",
              "    (conv1_bn): BatchNorm2d(64, eps=1e-05, momentum=0.1, affine=True, track_running_stats=True)\n",
              "    (layer1): Sequential(\n",
              "      (0): Block(\n",
              "        (conv1): Conv2d(64, 64, kernel_size=(3, 3), stride=(1, 1), padding=(1, 1))\n",
              "        (conv1_bn): BatchNorm2d(64, eps=1e-05, momentum=0.1, affine=True, track_running_stats=True)\n",
              "        (conv2): Conv2d(64, 64, kernel_size=(3, 3), stride=(1, 1), padding=(1, 1))\n",
              "        (conv2_bn): BatchNorm2d(64, eps=1e-05, momentum=0.1, affine=True, track_running_stats=True)\n",
              "        (identity): Sequential()\n",
              "      )\n",
              "      (1): Block(\n",
              "        (conv1): Conv2d(64, 64, kernel_size=(3, 3), stride=(1, 1), padding=(1, 1))\n",
              "        (conv1_bn): BatchNorm2d(64, eps=1e-05, momentum=0.1, affine=True, track_running_stats=True)\n",
              "        (conv2): Conv2d(64, 64, kernel_size=(3, 3), stride=(1, 1), padding=(1, 1))\n",
              "        (conv2_bn): BatchNorm2d(64, eps=1e-05, momentum=0.1, affine=True, track_running_stats=True)\n",
              "        (identity): Sequential()\n",
              "      )\n",
              "    )\n",
              "    (layer2): Sequential(\n",
              "      (0): Block(\n",
              "        (conv1): Conv2d(64, 128, kernel_size=(3, 3), stride=(2, 2), padding=(1, 1))\n",
              "        (conv1_bn): BatchNorm2d(128, eps=1e-05, momentum=0.1, affine=True, track_running_stats=True)\n",
              "        (conv2): Conv2d(128, 128, kernel_size=(3, 3), stride=(1, 1), padding=(1, 1))\n",
              "        (conv2_bn): BatchNorm2d(128, eps=1e-05, momentum=0.1, affine=True, track_running_stats=True)\n",
              "        (identity): Sequential(\n",
              "          (0): Conv2d(64, 128, kernel_size=(1, 1), stride=(2, 2))\n",
              "          (1): BatchNorm2d(128, eps=1e-05, momentum=0.1, affine=True, track_running_stats=True)\n",
              "        )\n",
              "      )\n",
              "      (1): Block(\n",
              "        (conv1): Conv2d(128, 128, kernel_size=(3, 3), stride=(1, 1), padding=(1, 1))\n",
              "        (conv1_bn): BatchNorm2d(128, eps=1e-05, momentum=0.1, affine=True, track_running_stats=True)\n",
              "        (conv2): Conv2d(128, 128, kernel_size=(3, 3), stride=(1, 1), padding=(1, 1))\n",
              "        (conv2_bn): BatchNorm2d(128, eps=1e-05, momentum=0.1, affine=True, track_running_stats=True)\n",
              "        (identity): Sequential()\n",
              "      )\n",
              "    )\n",
              "    (layer3): Sequential(\n",
              "      (0): Block(\n",
              "        (conv1): Conv2d(128, 256, kernel_size=(3, 3), stride=(2, 2), padding=(1, 1))\n",
              "        (conv1_bn): BatchNorm2d(256, eps=1e-05, momentum=0.1, affine=True, track_running_stats=True)\n",
              "        (conv2): Conv2d(256, 256, kernel_size=(3, 3), stride=(1, 1), padding=(1, 1))\n",
              "        (conv2_bn): BatchNorm2d(256, eps=1e-05, momentum=0.1, affine=True, track_running_stats=True)\n",
              "        (identity): Sequential(\n",
              "          (0): Conv2d(128, 256, kernel_size=(1, 1), stride=(2, 2))\n",
              "          (1): BatchNorm2d(256, eps=1e-05, momentum=0.1, affine=True, track_running_stats=True)\n",
              "        )\n",
              "      )\n",
              "      (1): Block(\n",
              "        (conv1): Conv2d(256, 256, kernel_size=(3, 3), stride=(1, 1), padding=(1, 1))\n",
              "        (conv1_bn): BatchNorm2d(256, eps=1e-05, momentum=0.1, affine=True, track_running_stats=True)\n",
              "        (conv2): Conv2d(256, 256, kernel_size=(3, 3), stride=(1, 1), padding=(1, 1))\n",
              "        (conv2_bn): BatchNorm2d(256, eps=1e-05, momentum=0.1, affine=True, track_running_stats=True)\n",
              "        (identity): Sequential()\n",
              "      )\n",
              "    )\n",
              "    (layer4): Sequential(\n",
              "      (0): Block(\n",
              "        (conv1): Conv2d(256, 512, kernel_size=(3, 3), stride=(2, 2), padding=(1, 1))\n",
              "        (conv1_bn): BatchNorm2d(512, eps=1e-05, momentum=0.1, affine=True, track_running_stats=True)\n",
              "        (conv2): Conv2d(512, 512, kernel_size=(3, 3), stride=(1, 1), padding=(1, 1))\n",
              "        (conv2_bn): BatchNorm2d(512, eps=1e-05, momentum=0.1, affine=True, track_running_stats=True)\n",
              "        (identity): Sequential(\n",
              "          (0): Conv2d(256, 512, kernel_size=(1, 1), stride=(2, 2))\n",
              "          (1): BatchNorm2d(512, eps=1e-05, momentum=0.1, affine=True, track_running_stats=True)\n",
              "        )\n",
              "      )\n",
              "      (1): Block(\n",
              "        (conv1): Conv2d(512, 512, kernel_size=(3, 3), stride=(1, 1), padding=(1, 1))\n",
              "        (conv1_bn): BatchNorm2d(512, eps=1e-05, momentum=0.1, affine=True, track_running_stats=True)\n",
              "        (conv2): Conv2d(512, 512, kernel_size=(3, 3), stride=(1, 1), padding=(1, 1))\n",
              "        (conv2_bn): BatchNorm2d(512, eps=1e-05, momentum=0.1, affine=True, track_running_stats=True)\n",
              "        (identity): Sequential()\n",
              "      )\n",
              "    )\n",
              "  )\n",
              "  (1): MLP(\n",
              "    (mlp): Sequential(\n",
              "      (0): Linear(in_features=512, out_features=512, bias=True)\n",
              "      (1): ReLU()\n",
              "      (2): Linear(in_features=512, out_features=128, bias=True)\n",
              "    )\n",
              "  )\n",
              ")"
            ]
          },
          "execution_count": 6,
          "metadata": {},
          "output_type": "execute_result"
        }
      ],
      "source": [
        "LR = 1.0\n",
        "\n",
        "net_f = ResNet18(3, Block)\n",
        "net_g = MLP(512)\n",
        "net = nn.Sequential(net_f, net_g)\n",
        "# optimizer = optim.Adam(net.parameters())\n",
        "optimizer = optim.SGD(net.parameters(), lr=LR)\n",
        "net.to(device)\n",
        "net.train()"
      ]
    },
    {
      "cell_type": "code",
      "execution_count": null,
      "metadata": {
        "id": "bqhu4T1BY5Td"
      },
      "outputs": [],
      "source": [
        "def compute_loss(yhat, t):\n",
        "    \"\"\"\n",
        "    Computing the contrastive loss based on cosine similarity\n",
        "    input:\n",
        "        yhat: [tensor] latent embedding features size: BATCH_SIZE * 128\n",
        "        t: [float] temperature range: (0.0, 1.0)\n",
        "    output:\n",
        "        loss: [tensor] 1D\n",
        "    \"\"\"\n",
        "    \n",
        "    # testing code\n",
        "    #from collections import defaultdict\n",
        "    #cache = defaultdict(int)\n",
        "    #for i in range(yhat.shape[0]):\n",
        "    #    for j in range(i+1, yhat.shape[0]):\n",
        "    #        val = torch.nn.functional.cosine_similarity(yhat[i], yhat[j], dim=0, eps=1e-8)\n",
        "    #        cache[(i, j)] = val\n",
        "    #        cache[(j, i)] = val\n",
        "\n",
        "    # Calculate the pair-wise consine similarity\n",
        "    cache = torch.nn.functional.cosine_similarity(yhat.unsqueeze(0), yhat.unsqueeze(1), dim=-1, eps=1e-8)\n",
        "    cache = torch.exp(cache / t)\n",
        "\n",
        "    # Compute the contrastive loss\n",
        "    loss = 0\n",
        "    for n in range(yhat.shape[0]):\n",
        "        # Get the index of positive pairs, based on 2 tensors of the same pair are adjacent in terms of index\n",
        "        i = n\n",
        "        if i % 2 == 0:\n",
        "            j = i + 1\n",
        "        else:\n",
        "            j = i - 1\n",
        "\n",
        "        # The numerator is between the positive pair\n",
        "        # The denominator is between one tensor with all OTHER tensors\n",
        "        numerator = cache[i, j]\n",
        "        denominator = 10 ** (-8)\n",
        "        for k in range(yhat.shape[0]):\n",
        "            if k != i:\n",
        "                denominator += cache[i, k]\n",
        "        cur_loss = (-1) * torch.log(numerator / denominator)\n",
        "        # Add up the loss and take the average\n",
        "        loss += (1 / 2 * yhat.shape[0]) * cur_loss\n",
        "    loss = torch.tensor(loss.item())\n",
        "    loss.requires_grad = True\n",
        "    # loss = torch.mean(loss)\n",
        "    return loss"
      ]
    },
    {
      "cell_type": "code",
      "execution_count": null,
      "metadata": {
        "colab": {
          "background_save": true,
          "base_uri": "https://localhost:8080/"
        },
        "id": "Mir0ML6bQ2Jy",
        "outputId": "1fc35e25-02b4-4fe1-d694-5b0d4f77176a"
      },
      "outputs": [
        {
          "name": "stdout",
          "output_type": "stream",
          "text": [
            "[158845370.5234375]\n",
            "[158845370.5234375, 158844939.11328125]\n",
            "[158845370.5234375, 158844939.11328125, 158845836.48046875]\n",
            "[158845370.5234375, 158844939.11328125, 158845836.48046875, 158858793.78515625]\n",
            "[158845370.5234375, 158844939.11328125, 158845836.48046875, 158858793.78515625, 158847383.02734375]\n",
            "[158845370.5234375, 158844939.11328125, 158845836.48046875, 158858793.78515625, 158847383.02734375, 158854768.1171875]\n",
            "[158845370.5234375, 158844939.11328125, 158845836.48046875, 158858793.78515625, 158847383.02734375, 158854768.1171875, 158862798.234375]\n",
            "[158845370.5234375, 158844939.11328125, 158845836.48046875, 158858793.78515625, 158847383.02734375, 158854768.1171875, 158862798.234375, 158831201.50390625]\n",
            "[158845370.5234375, 158844939.11328125, 158845836.48046875, 158858793.78515625, 158847383.02734375, 158854768.1171875, 158862798.234375, 158831201.50390625, 158841741.85546875]\n",
            "[158845370.5234375, 158844939.11328125, 158845836.48046875, 158858793.78515625, 158847383.02734375, 158854768.1171875, 158862798.234375, 158831201.50390625, 158841741.85546875, 158851879.87109375]\n"
          ]
        }
      ],
      "source": [
        "# loop through each batch in trainset \n",
        "LOSSES = []\n",
        "EPOCHS = 10\n",
        "\n",
        "for epoch in range(EPOCHS):\n",
        "    cost = 0\n",
        "    for data, label in trainset:\n",
        "        for ind_img in range(len(data)): # loop through each image in batch \n",
        "            par_tensor = data[ind_img]\n",
        "            cur_tensor_0 = train_transform(par_tensor) # first aug\n",
        "            cur_tensor_1 = train_transform(par_tensor) # second aug \n",
        "            # resize \n",
        "            cur_tensor_0, cur_tensor_1 = torch.unsqueeze(cur_tensor_0, 0), torch.unsqueeze(cur_tensor_1, 0) \n",
        "            # if this is the first image in the batch, we just concat the 2 data aug \n",
        "            if ind_img == 0:\n",
        "                total_tensor = torch.cat((cur_tensor_0, cur_tensor_1), dim=0)\n",
        "            # else append to the previous augmented pair in the batch \n",
        "            else:\n",
        "                total_tensor = torch.cat((total_tensor, cur_tensor_0, cur_tensor_1), dim=0)\n",
        "            \n",
        "        total_tensor = total_tensor.to(device)\n",
        "        # pass <total_tensor> into the model \n",
        "        yhat = net(total_tensor)\n",
        "        # calculate loss \n",
        "        loss = compute_loss(yhat, 0.5)\n",
        "        ### if ind % 2 == 0: j = ind + 1\n",
        "        ### \n",
        "        \n",
        "        loss.backward()\n",
        "        optimizer.step()\n",
        "        cost += loss.item()\n",
        "    LOSSES.append(cost)\n",
        "    print(LOSSES)\n",
        "        "
      ]
    },
    {
      "cell_type": "code",
      "execution_count": null,
      "metadata": {
        "colab": {
          "base_uri": "https://localhost:8080/",
          "height": 284
        },
        "id": "6Wmte-NN0FAa",
        "outputId": "6fd2070e-4906-4a15-fdc9-ebed2bb567c8"
      },
      "outputs": [
        {
          "data": {
            "text/plain": [
              "[<matplotlib.lines.Line2D at 0x7f1becbcc6d0>]"
            ]
          },
          "execution_count": 40,
          "metadata": {},
          "output_type": "execute_result"
        },
        {
          "data": {
            "image/png": "[encoded data removed]",
            "text/plain": [
              "<Figure size 432x288 with 1 Axes>"
            ]
          },
          "metadata": {},
          "output_type": "display_data"
        }
      ],
      "source": [
        "plt.plot([_ for _ in range(len(LOSSES))], LOSSES)"
      ]
    },
    {
      "cell_type": "code",
      "execution_count": null,
      "metadata": {
        "id": "f1MYfjCMREKI"
      },
      "outputs": [],
      "source": [
        "# loop through each batch in trainset \n",
        "LOSSES = []\n",
        "#net_f.eval()\n",
        "temp = []\n",
        "\n",
        "for data, label in trainset:\n",
        "    pass"
      ]
    },
    {
      "cell_type": "code",
      "execution_count": null,
      "metadata": {
        "id": "7VoxTNVH0zLL"
      },
      "outputs": [],
      "source": []
    }
  ],
  "metadata": {
    "accelerator": "GPU",
    "colab": {
      "provenance": []
    },
    "gpuClass": "standard",
    "kernelspec": {
      "display_name": "Python 3",
      "name": "python3"
    },
    "language_info": {
      "name": "python"
    }
  },
  "nbformat": 4,
  "nbformat_minor": 0
}