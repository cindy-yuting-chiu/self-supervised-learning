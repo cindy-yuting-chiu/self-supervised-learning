{
  "cells": [
    {
      "cell_type": "markdown",
      "metadata": {
        "id": "HtOlr2wE41en"
      },
      "source": [
        "# Training Rotnet with cifar10"
      ]
    },
    {
      "cell_type": "code",
      "source": [
        "# Google Colab setup 1\n",
        "from google.colab import drive\n",
        "drive.mount('/content/drive')\n",
        "%cd '/content/drive/MyDrive/ecehw/project'"
      ],
      "metadata": {
        "colab": {
          "base_uri": "https://localhost:8080/"
        },
        "id": "4JkJFx0CUCqH",
        "outputId": "dc7ab999-cd17-437b-b5ab-717f627cf6e0"
      },
      "execution_count": 1,
      "outputs": [
        {
          "output_type": "stream",
          "name": "stdout",
          "text": [
            "Mounted at /content/drive\n",
            "/content/drive/MyDrive/ecehw/project\n"
          ]
        }
      ]
    },
    {
      "cell_type": "code",
      "source": [
        "# Google Colab setup 2\n",
        "import zipfile as zf\n",
        "\n",
        "files = zf.ZipFile(\"tools.zip\", 'r')\n",
        "files.extractall('./')\n",
        "files.close()"
      ],
      "metadata": {
        "id": "WRJBYM_qzTtb"
      },
      "execution_count": null,
      "outputs": []
    },
    {
      "cell_type": "code",
      "execution_count": 31,
      "metadata": {
        "id": "Nj_B3b7641eq"
      },
      "outputs": [],
      "source": [
        "# import necessary dependencies\n",
        "import argparse\n",
        "import os, sys\n",
        "import time\n",
        "import datetime\n",
        "from tqdm import tqdm_notebook as tqdm\n",
        "\n",
        "import torch\n",
        "import torch.nn as nn\n",
        "import torch.nn.functional as F\n",
        "import torch.optim as optim\n",
        "\n",
        "from torchvision import datasets, transforms\n",
        "import torchvision\n",
        "\n",
        "from torch.utils.data import DataLoader\n",
        "\n"
      ]
    },
    {
      "cell_type": "markdown",
      "source": [
        "### Data Loader"
      ],
      "metadata": {
        "id": "VlCyIzkMbIZX"
      }
    },
    {
      "cell_type": "code",
      "source": [
        "# the transformation of the test set\n",
        "linear_eval_transform_test = transforms.Compose([\n",
        "            transforms.ToTensor(),\n",
        "            # the normalize numbers are from previous assignment\n",
        "            transforms.Normalize((0.4914, 0.4822, 0.4465), (0.2023, 0.1994, 0.2010))\n",
        "            ])"
      ],
      "metadata": {
        "id": "hIapX4m47fR5"
      },
      "execution_count": null,
      "outputs": []
    },
    {
      "cell_type": "code",
      "source": [
        "# load and split data \n",
        "BATCH_SIZE = 128\n",
        "\n",
        "all_train_cifar = datasets.CIFAR10('./data5', train=True, download=True, transform=transforms.ToTensor())\n",
        "#further split train and validation set \n",
        "train_set, val_set = torch.utils.data.random_split(all_train_cifar, [45000, 5000])\n",
        "\n",
        "train_loader = torch.utils.data.DataLoader(\n",
        "    train_set,\n",
        "    batch_size = BATCH_SIZE, shuffle=True, )\n",
        "\n",
        "val_loader = torch.utils.data.DataLoader(\n",
        "    val_set,\n",
        "    batch_size = BATCH_SIZE, shuffle=True, )\n",
        "\n",
        "# the testset don't have data augmentation\n",
        "test_loader = torch.utils.data.DataLoader(\n",
        "    datasets.CIFAR10('./data5', train=False, download=True, transform=linear_eval_transform_test),\n",
        "    batch_size = BATCH_SIZE, shuffle=True, )\n"
      ],
      "metadata": {
        "colab": {
          "base_uri": "https://localhost:8080/"
        },
        "id": "z3fTcQYo-25S",
        "outputId": "847455ef-017c-47fd-f8cb-349cd08fd010"
      },
      "execution_count": 60,
      "outputs": [
        {
          "output_type": "stream",
          "name": "stdout",
          "text": [
            "Files already downloaded and verified\n",
            "Files already downloaded and verified\n"
          ]
        }
      ]
    },
    {
      "cell_type": "markdown",
      "source": [
        "## Network Architecture - Rotnet"
      ],
      "metadata": {
        "id": "i5pWTI5mz2uF"
      }
    },
    {
      "cell_type": "code",
      "source": [
        "class RotBlock(nn.Module):\n",
        "    def __init__(self, in_planes, out_planes, kernel_size):\n",
        "        super(RotBlock, self).__init__()\n",
        "        padding = int((kernel_size - 1) / 2) # adding this make acc increase from 0.25 to 0.6 up\n",
        "        self.conv = nn.Sequential(\n",
        "            nn.Conv2d(in_planes, out_planes, kernel_size, padding=padding),\n",
        "            nn.BatchNorm2d(out_planes), # adding this make acc increase from 0.25 to 0.6 up\n",
        "            nn.ReLU(True)\n",
        "        )\n",
        "    def forward(self, x):\n",
        "        return self.conv(x)"
      ],
      "metadata": {
        "id": "Oil9iYqGk5Qk"
      },
      "execution_count": 5,
      "outputs": []
    },
    {
      "cell_type": "code",
      "source": [
        "# separate first 2 block and the last two: refer to to net_f & net_g"
      ],
      "metadata": {
        "id": "i6unOpp4J7t1"
      },
      "execution_count": null,
      "outputs": []
    },
    {
      "cell_type": "code",
      "source": [
        "class RotNN(nn.Module):\n",
        "    def __init__(self, num_classes = 10, num_inchannels = 3):\n",
        "        super(RotNN, self).__init__()\n",
        "        \n",
        "# RuntimeError: Given groups=1, weight of size [192, 3, 5, 5], \n",
        "# expected input[512, 96, 28, 28] to have 3 channels, but got 96 channels instead\n",
        "\n",
        "        n_channels = 192\n",
        "        n_channels2 = 160\n",
        "        n_channels3 = 96\n",
        "\n",
        "        # # 1st block\n",
        "        # blocks[0].add_module(\"Block1_ConvB1\", BasicBlock(num_inchannels, n_channels, 5))\n",
        "        # blocks[0].add_module(\"Block1_ConvB2\", BasicBlock(n_channels, n_channels2, 1))\n",
        "        # blocks[0].add_module(\"Block1_ConvB3\", BasicBlock(n_channels2, n_channels3, 1))\n",
        "        # blocks[0].add_module(\n",
        "        #     \"Block1_MaxPool\", nn.MaxPool2d(kernel_size=3, stride=2, padding=1)\n",
        "        # )\n",
        "\n",
        "        self.mlpconv1_1 = RotBlock(num_inchannels, n_channels, 5)\n",
        "        self.mlpconv1_2 = RotBlock(n_channels, n_channels2, 1)\n",
        "        self.mlpconv1_3 = RotBlock(n_channels2, n_channels3, 1)\n",
        "        # optional: add max pooling at the end of each block\n",
        "\n",
        "        # # 2nd block\n",
        "        # blocks[1].add_module(\"Block2_ConvB1\", BasicBlock(n_channels3, n_channels, 5))\n",
        "        # blocks[1].add_module(\"Block2_ConvB2\", BasicBlock(n_channels, n_channels, 1))\n",
        "        # blocks[1].add_module(\"Block2_ConvB3\", BasicBlock(n_channels, n_channels, 1))\n",
        "        # blocks[1].add_module(\n",
        "        #     \"Block2_AvgPool\", nn.AvgPool2d(kernel_size=3, stride=2, padding=1)\n",
        "        # )\n",
        "\n",
        "        self.mlpconv2_1 = RotBlock(n_channels3, n_channels, 5)\n",
        "        self.mlpconv2_2 = RotBlock(n_channels, n_channels, 1)\n",
        "        self.mlpconv2_3 = RotBlock(n_channels, n_channels, 1)\n",
        "\n",
        "        # # 3rd block\n",
        "        # blocks[2].add_module(\"Block3_ConvB1\", BasicBlock(n_channels, n_channels, 3))\n",
        "        # blocks[2].add_module(\"Block3_ConvB2\", BasicBlock(n_channels, n_channels, 1))\n",
        "        # blocks[2].add_module(\"Block3_ConvB3\", BasicBlock(n_channels, n_channels, 1))\n",
        "\n",
        "        self.mlpconv3_1 = RotBlock(n_channels, n_channels, 3)\n",
        "        self.mlpconv3_2 = RotBlock(n_channels, n_channels, 1)\n",
        "        self.mlpconv3_3 = RotBlock(n_channels, n_channels, 1)\n",
        "\n",
        "        self.mlpconv4_1 = RotBlock(n_channels, n_channels, 3)\n",
        "        self.mlpconv4_2 = RotBlock(n_channels, n_channels, 1)\n",
        "        self.mlpconv4_3 = RotBlock(n_channels, n_channels, 1)\n",
        "\n",
        "        self.fc1 = nn.Linear(n_channels, num_classes)\n",
        "\n",
        "    def forward(self, x):\n",
        "        out = self.mlpconv1_3(self.mlpconv1_2(self.mlpconv1_1(x)))\n",
        "        out = self.mlpconv2_3(self.mlpconv2_2(self.mlpconv2_1(out)))\n",
        "        out = self.mlpconv3_3(self.mlpconv3_2(self.mlpconv3_1(out)))\n",
        "        out = self.mlpconv4_3(self.mlpconv4_2(self.mlpconv4_1(out)))\n",
        "\n",
        "        out = F.avg_pool2d(out, (out.size(2), out.size(3))).view(-1, out.size(1)) #  GlobalAveragePooling\n",
        "        #print(out.size())\n",
        "        # alternative: https://pytorch.org/docs/stable/generated/torch.nn.AdaptiveAvgPool2d.html\n",
        "        out = self.fc1(out)\n",
        "        # make sure we apply softmax to general prediction\n",
        "        out = F.softmax(out, dim=1)\n",
        "        return out"
      ],
      "metadata": {
        "id": "S9usnHgek47t"
      },
      "execution_count": 6,
      "outputs": []
    },
    {
      "cell_type": "code",
      "execution_count": 7,
      "metadata": {
        "id": "vQXV_HOY41ez",
        "colab": {
          "base_uri": "https://localhost:8080/"
        },
        "outputId": "b68f045b-da8f-404d-be8c-4da4dd8d0956"
      },
      "outputs": [
        {
          "output_type": "stream",
          "name": "stdout",
          "text": [
            "cuda:0\n"
          ]
        }
      ],
      "source": [
        "# specify the device for computation\n",
        "\n",
        "device = torch.device('cuda:0' if torch.cuda.is_available() else 'cpu')\n",
        "print(device)\n",
        "# net.to(device)"
      ]
    },
    {
      "cell_type": "markdown",
      "source": [
        "## Training Pipeline\n"
      ],
      "metadata": {
        "id": "6Qj2hvJg0W37"
      }
    },
    {
      "cell_type": "code",
      "source": [
        "transform_train_rot90 = transforms.Compose(\n",
        "    [\n",
        "    transforms.ToPILImage(),\n",
        "    transforms.RandomRotation(degrees=(90, 90)),\n",
        "    transforms.ToTensor(),\n",
        "    transforms.Normalize((0.4914, 0.4822, 0.4465), (0.2023, 0.1994, 0.2010))\n",
        "    ])\n",
        "\n",
        "transform_train_rot180 = transforms.Compose(\n",
        "    [\n",
        "    transforms.ToPILImage(),\n",
        "    transforms.RandomRotation(degrees=(180, 180)),\n",
        "    transforms.ToTensor(),\n",
        "    transforms.Normalize((0.4914, 0.4822, 0.4465), (0.2023, 0.1994, 0.2010))\n",
        "    ])\n",
        "\n",
        "transform_train_rot270 = transforms.Compose(\n",
        "    [\n",
        "    transforms.ToPILImage(),\n",
        "    transforms.RandomRotation(degrees=(270, 270)),\n",
        "    transforms.ToTensor(),\n",
        "    transforms.Normalize((0.4914, 0.4822, 0.4465), (0.2023, 0.1994, 0.2010))\n",
        "    ])\n"
      ],
      "metadata": {
        "id": "Oc6xhu4Ud8c1"
      },
      "execution_count": 61,
      "outputs": []
    },
    {
      "cell_type": "code",
      "source": [
        "# import pandas as pd\n",
        "import numpy as np\n",
        "\n",
        "# some hyperparameters\n",
        "# total number of training epochs\n",
        "# EPOCHS = 30\n",
        "\n",
        "# current_learning_rate = INITIAL_LR\n",
        "epoch_acc_decay = []\n",
        "# WARMUP_EPOCHS= 100\n",
        "# WARMUPED_LR = 0.1\n",
        "DECAY_EPOCHS = [30, 60, 80]# 50\n",
        "DECAY = 0.2\n",
        "\n",
        "def train_valid (net, EPOCHS, criterion, optimizer, current_learning_rate, current_reg_l2, file_name)-> float:\n",
        "    # start the training/validation process\n",
        "    # the process should take about 5 minutes on a GTX 1070-Ti\n",
        "    # if the code is written efficiently.\n",
        "    best_val_acc = 0\n",
        "    # the folder where the trained model is saved\n",
        "    CHECKPOINT_FOLDER = \"./saved_model_rotnet\"\n",
        "    \n",
        "    print(\"==> Training starts!\")\n",
        "    print(\"=\"*50)\n",
        "    for i in range(0, EPOCHS):\n",
        "        # handle the learning rate scheduler.\n",
        "        # if i % WARMUP_EPOCHS == 0 and i != 0:\n",
        "        #     current_learning_rate = WARMUPED_LR   \n",
        "        #     print(\"Current learning rate has increased to %f\" %current_learning_rate)\n",
        "\n",
        "        # if i % DECAY_EPOCHS == 0 and i > WARMUP_EPOCHS:\n",
        "        if i in DECAY_EPOCHS:\n",
        "            current_learning_rate = current_learning_rate * DECAY\n",
        "            for param_group in optimizer.param_groups:\n",
        "                param_group['lr'] = current_learning_rate\n",
        "            print(\"Current learning rate has decayed to %f\" %current_learning_rate)\n",
        "        \n",
        "        #######################\n",
        "        # your code here\n",
        "        # switch to train mode\n",
        "        net.train()\n",
        "        \n",
        "        #######################\n",
        "        \n",
        "        print(\"Epoch %d:\" %i)\n",
        "        # this help you compute the training accuracy\n",
        "        total_examples = 0\n",
        "        correct_examples = 0\n",
        "        train_loss = 0 # track training loss if you want\n",
        "        \n",
        "        # Train the model for 1 epoch.\n",
        "        for batch_idx, (inputs, targets) in enumerate(train_loader): \n",
        "            # transform inputs into 4 rotation versions: 0, 90, 180, 270\n",
        "            for ind_img in range(len(inputs)): # loop through each image in batch \n",
        "                input_rot0 = inputs[ind_img]\n",
        "                input_rot90 = transform_train_rot90(inputs[ind_img])\n",
        "                input_rot180 = transform_train_rot180(inputs[ind_img])\n",
        "                input_rot270 = transform_train_rot270(inputs[ind_img])\n",
        "\n",
        "                # resize \n",
        "                input_rot0, input_rot90, input_rot180, input_rot270 = torch.unsqueeze(input_rot0, 0), \\\n",
        "                                                                      torch.unsqueeze(input_rot90, 0), \\\n",
        "                                                                      torch.unsqueeze(input_rot180, 0), \\\n",
        "                                                                      torch.unsqueeze(input_rot270, 0)\n",
        "                # if this is the first image in the batch, we just concat the 2 data aug \n",
        "                if ind_img == 0:\n",
        "                    total_tensor = torch.cat((input_rot0, input_rot90, input_rot180, input_rot270), dim=0)\n",
        "                # else append to the previous augmented pair in the batch \n",
        "                else:\n",
        "                    total_tensor = torch.cat((total_tensor, input_rot0, input_rot90, input_rot180, input_rot270), dim=0)            \n",
        "            targets = targets.repeat_interleave(4)  \n",
        "            total_tensor = total_tensor.to(device)\n",
        "            # repeat the original labels for 4 times cuz we rotated for 4 times, and they should have the same class label\n",
        "            targets = targets.to(device)\n",
        "            # compute the output and loss\n",
        "            outputs = net(total_tensor)\n",
        "            loss = criterion(outputs, targets)\n",
        "            # print(batch_idx, loss.item())\n",
        "            \n",
        "            # zero the gradient\n",
        "            optimizer.zero_grad()\n",
        "            \n",
        "            # backpropagation\n",
        "            loss.backward()\n",
        "            \n",
        "            # apply gradient and update the weights\n",
        "            optimizer.step()\n",
        "            \n",
        "            # count the number of correctly predicted samples in the current batch\n",
        "            train_loss += loss.item()\n",
        "            _, predicted = torch.max(outputs.data, 1)\n",
        "            correct_examples += (predicted == targets).sum().item()\n",
        "            total_examples += targets.size(0)\n",
        "            \n",
        "            ####################################\n",
        "                    \n",
        "        avg_loss = train_loss / len(train_loader)\n",
        "        avg_acc = correct_examples / total_examples\n",
        "        print(\"Training loss: %.4f, Training accuracy: %.4f\" %(avg_loss, avg_acc))\n",
        "\n",
        "        # Validate on the validation dataset\n",
        "        # switch to eval mode\n",
        "        net.eval()\n",
        "        \n",
        "\n",
        "        # this help you compute the validation accuracy\n",
        "        total_examples = 0\n",
        "        correct_examples = 0\n",
        "        \n",
        "        val_loss = 0 # again, track the validation loss if you want\n",
        "\n",
        "        # disable gradient during validation, which can save GPU memory\n",
        "        with torch.no_grad():\n",
        "            for batch_idx, (inputs, targets) in enumerate(val_loader):\n",
        "                ####################################\n",
        "\n",
        "                for ind_img in range(len(inputs)): # loop through each image in batch \n",
        "                    input_rot0 = inputs[ind_img]\n",
        "                    input_rot90 = transform_train_rot90(inputs[ind_img])\n",
        "                    input_rot180 = transform_train_rot180(inputs[ind_img])\n",
        "                    input_rot270 = transform_train_rot270(inputs[ind_img])\n",
        "\n",
        "                    # resize \n",
        "                    input_rot0, input_rot90, input_rot180, input_rot270 = torch.unsqueeze(input_rot0, 0), \\\n",
        "                                                                          torch.unsqueeze(input_rot90, 0), \\\n",
        "                                                                          torch.unsqueeze(input_rot180, 0), \\\n",
        "                                                                          torch.unsqueeze(input_rot270, 0)\n",
        "                    # if this is the first image in the batch, we just concat the 2 data aug \n",
        "                    if ind_img == 0:\n",
        "                        total_tensor = torch.cat((input_rot0, input_rot90, input_rot180, input_rot270), dim=0)\n",
        "                    # else append to the previous augmented pair in the batch \n",
        "                    else:\n",
        "                        total_tensor = torch.cat((total_tensor, input_rot0, input_rot90, input_rot180, input_rot270), dim=0)            \n",
        "                targets = targets.repeat_interleave(4)  \n",
        "                total_tensor = total_tensor.to(device)\n",
        "                targets = targets.to(device)\n",
        "\n",
        "                # compute the output and loss\n",
        "                outputs = net(total_tensor)\n",
        "                loss = criterion(outputs, targets)\n",
        "\n",
        "                \n",
        "                # count the number of correctly predicted samples in the current batch\n",
        "                val_loss += loss.item()\n",
        "                _, predicted = torch.max(outputs.data, 1)\n",
        "                correct_examples += (predicted == targets).sum().item()\n",
        "                total_examples += targets.size(0)\n",
        "\n",
        "                ####################################\n",
        "\n",
        "        avg_loss = val_loss / len(val_loader)\n",
        "        avg_acc = correct_examples / total_examples\n",
        "        print(\"Validation loss: %.4f, Validation accuracy: %.4f\" % (avg_loss, avg_acc))\n",
        "        epoch_acc_decay.append([avg_loss, avg_acc])\n",
        "\n",
        "        # save the model checkpoint\n",
        "        if avg_acc > best_val_acc:\n",
        "            best_val_acc = avg_acc\n",
        "            if not os.path.exists(CHECKPOINT_FOLDER):\n",
        "                os.makedirs(CHECKPOINT_FOLDER)\n",
        "            print(\"Saving ...\")\n",
        "            torch.save(net.state_dict(), os.path.join(CHECKPOINT_FOLDER, file_name))\n",
        "            \n",
        "        print('')\n",
        "\n",
        "    print(\"=\"*50)\n",
        "    print(f\"==> Optimization finished! Best validation accuracy: {best_val_acc:.4f}\")\n",
        "    return best_val_acc, epoch_acc_decay\n"
      ],
      "metadata": {
        "id": "8TYNhJll5vvH"
      },
      "execution_count": 62,
      "outputs": []
    },
    {
      "cell_type": "markdown",
      "source": [
        "### Start Training\n"
      ],
      "metadata": {
        "id": "vVEmmXxinLnr"
      }
    },
    {
      "cell_type": "code",
      "source": [
        "# clear cuda memory cache\n",
        "import gc\n",
        "torch.cuda.empty_cache()\n",
        "gc.collect()"
      ],
      "metadata": {
        "colab": {
          "base_uri": "https://localhost:8080/"
        },
        "id": "MzmBhBMRBCWr",
        "outputId": "5c6b5ec2-30b5-4c75-e72a-b9c09e748986"
      },
      "execution_count": 67,
      "outputs": [
        {
          "output_type": "execute_result",
          "data": {
            "text/plain": [
              "0"
            ]
          },
          "metadata": {},
          "execution_count": 67
        }
      ]
    },
    {
      "cell_type": "code",
      "source": [
        "hpt_net = RotNN()\n",
        "hpt_net.to(device)\n",
        "hpt_lr = 0.055\n",
        "hpt_regl2 = 3e-05\n",
        "hpt_criterion = nn.CrossEntropyLoss()\n",
        "#hpt_optimizer = optim.Adam(hpt_net.parameters(), lr=hpt_lr, weight_decay = hpt_regl2)\n",
        "hpt_optimizer = optim.SGD(hpt_net.parameters(), lr=hpt_lr, momentum=0.9, weight_decay = hpt_regl2)\n",
        "best_val_acc, loss_acc_LRdecay = train_valid (hpt_net, 50, hpt_criterion, hpt_optimizer, hpt_lr, hpt_regl2, f'lr_{hpt_lr}_bs128.pth')\n",
        "\n"
      ],
      "metadata": {
        "colab": {
          "base_uri": "https://localhost:8080/"
        },
        "id": "l2tchkC19LLg",
        "outputId": "c367e467-325d-4a04-d824-6958fd7c780f"
      },
      "execution_count": null,
      "outputs": [
        {
          "output_type": "stream",
          "name": "stdout",
          "text": [
            "==> Training starts!\n",
            "==================================================\n",
            "Epoch 0:\n",
            "Training loss: 2.1673, Training accuracy: 0.2853\n",
            "Validation loss: 2.1328, Validation accuracy: 0.3186\n",
            "Saving ...\n",
            "\n",
            "Epoch 1:\n"
          ]
        }
      ]
    },
    {
      "cell_type": "markdown",
      "source": [
        "### Evaluate on test set"
      ],
      "metadata": {
        "id": "g8Xun6qkCJYa"
      }
    },
    {
      "cell_type": "code",
      "source": [
        "test = RotNN() \n",
        "test.load_state_dict(torch.load(\"/content/drive/MyDrive/ecehw/project/saved_model_rotnet/hpt_lr_0.01_regL2_5e-05_Rotnet_batch128.pth\"))\n",
        "test.to(device)\n",
        "test.eval()\n",
        "for parameter in test.parameters():\n",
        "    parameter.requires_grad = False"
      ],
      "metadata": {
        "id": "gvBTIFVFs7Gl"
      },
      "execution_count": 36,
      "outputs": []
    },
    {
      "cell_type": "code",
      "source": [
        "def test_model(mdl, loader):\n",
        "    mdl.eval()\n",
        "    running_correct = 0.\n",
        "    running_loss = 0.\n",
        "    running_total = 0.\n",
        "    with torch.no_grad():\n",
        "        for data,labels in loader:\n",
        "            data = data.to(device); labels = labels.to(device)\n",
        "            outputs = mdl(data)\n",
        "            loss = F.cross_entropy(outputs, labels)\n",
        "            _, preds = outputs.max(1)\n",
        "            running_correct += preds.eq(labels).sum().item()\n",
        "            running_loss += loss.item()\n",
        "            running_total += labels.size(0)\n",
        "    test_acc = running_correct/running_total\n",
        "    test_loss = running_loss/len(loader)\n",
        "    mdl.train()\n",
        "    print\n",
        "    return test_acc, test_loss"
      ],
      "metadata": {
        "id": "NStrenBGu3pn"
      },
      "execution_count": 37,
      "outputs": []
    },
    {
      "cell_type": "code",
      "source": [
        "test_model(test, test_loader)"
      ],
      "metadata": {
        "colab": {
          "base_uri": "https://localhost:8080/"
        },
        "id": "DBqdwE6j-iHA",
        "outputId": "3e0300e8-4f47-436d-c71b-f2dbf3bc4c66"
      },
      "execution_count": 38,
      "outputs": [
        {
          "output_type": "execute_result",
          "data": {
            "text/plain": [
              "(0.0578, 2.3563357526882767)"
            ]
          },
          "metadata": {},
          "execution_count": 38
        }
      ]
    },
    {
      "cell_type": "markdown",
      "source": [
        "## random code ignore "
      ],
      "metadata": {
        "id": "GKeEXI62CxjF"
      }
    },
    {
      "cell_type": "code",
      "source": [
        "HPT_INITIAL_LR = list(np.linspace(0.01, 0.1, 3))\n",
        "#HPT_INITIAL_LR = [0.01, 0.005]\n",
        "#HPT_INITIAL_LR = [0.1]\n",
        "\n",
        "\n",
        "HPT_L2_REG = [5e-5, 3e-5, 1e-5]\n",
        "#HPT_L2_REG = [5e-4]\n",
        "\n",
        "hpt = []\n",
        "EPOCHS = 10\n",
        "hpt_idx = 0\n",
        "\n",
        "for hpt_lr in HPT_INITIAL_LR:\n",
        "    for hpt_regl2 in HPT_L2_REG:\n",
        "        hpt_idx += 1\n",
        "        print (\"No.\" + str(hpt_idx) + \" Combination!\" )\n",
        "        print(f'Current LR: {hpt_lr}, Weight decay: {hpt_regl2}')\n",
        "        hpt_net = RotNN()\n",
        "        hpt_net.to(device)\n",
        "\n",
        "        hpt_criterion = nn.CrossEntropyLoss()\n",
        "        # try playing around with\n",
        "        hpt_optimizer = optim.SGD(hpt_net.parameters(), lr=hpt_lr, momentum=0.9, weight_decay = hpt_regl2)\n",
        "\n",
        "        best_val_acc, loss_acc_LRdecay = train_valid (hpt_net, EPOCHS, hpt_criterion, hpt_optimizer, hpt_lr, hpt_regl2)\n",
        "\n",
        "        hpt.append([hpt_lr, hpt_regl2, best_val_acc])\n",
        "    # net.apply(init_weights)"
      ],
      "metadata": {
        "colab": {
          "base_uri": "https://localhost:8080/",
          "height": 1000
        },
        "id": "P0wVVFU85vqp",
        "outputId": "0d2ff0a1-991e-404b-a400-596fe0bba881"
      },
      "execution_count": 10,
      "outputs": [
        {
          "output_type": "stream",
          "name": "stdout",
          "text": [
            "No.1 Combination!\n",
            "Current LR: 0.01, Weight decay: 5e-05\n",
            "==> Training starts!\n",
            "==================================================\n",
            "Epoch 0:\n",
            "Training loss: 2.0409, Training accuracy: 0.3046\n",
            "Validation loss: 2.0113, Validation accuracy: 0.3235\n",
            "Saving ...\n",
            "\n",
            "Epoch 1:\n",
            "Training loss: 1.9336, Training accuracy: 0.3965\n",
            "Validation loss: 1.9412, Validation accuracy: 0.3975\n",
            "Saving ...\n",
            "\n",
            "Epoch 2:\n",
            "Training loss: 1.8764, Training accuracy: 0.4605\n",
            "Validation loss: 1.8478, Validation accuracy: 0.4945\n",
            "Saving ...\n",
            "\n",
            "Epoch 3:\n",
            "Training loss: 1.8390, Training accuracy: 0.5023\n",
            "Validation loss: 1.8301, Validation accuracy: 0.5002\n",
            "Saving ...\n",
            "\n",
            "Epoch 4:\n",
            "Training loss: 1.8118, Training accuracy: 0.5316\n",
            "Validation loss: 1.8156, Validation accuracy: 0.5366\n",
            "Saving ...\n",
            "\n",
            "Epoch 5:\n",
            "Training loss: 1.7907, Training accuracy: 0.5553\n",
            "Validation loss: 1.7999, Validation accuracy: 0.5572\n",
            "Saving ...\n",
            "\n",
            "Epoch 6:\n",
            "Training loss: 1.7739, Training accuracy: 0.5766\n",
            "Validation loss: 1.7900, Validation accuracy: 0.5690\n",
            "Saving ...\n",
            "\n",
            "Epoch 7:\n",
            "Training loss: 1.7583, Training accuracy: 0.5951\n",
            "Validation loss: 1.7763, Validation accuracy: 0.5823\n",
            "Saving ...\n",
            "\n",
            "Epoch 8:\n",
            "Training loss: 1.7453, Training accuracy: 0.6093\n",
            "Validation loss: 1.7672, Validation accuracy: 0.5869\n",
            "Saving ...\n",
            "\n",
            "Epoch 9:\n",
            "Training loss: 1.7335, Training accuracy: 0.6239\n",
            "Validation loss: 1.7613, Validation accuracy: 0.5975\n",
            "Saving ...\n",
            "\n",
            "==================================================\n",
            "==> Optimization finished! Best validation accuracy: 0.5975\n",
            "No.2 Combination!\n",
            "Current LR: 0.01, Weight decay: 3e-05\n",
            "==> Training starts!\n",
            "==================================================\n",
            "Epoch 0:\n",
            "Training loss: 2.0414, Training accuracy: 0.3007\n",
            "Validation loss: 2.0160, Validation accuracy: 0.3104\n",
            "Saving ...\n",
            "\n",
            "Epoch 1:\n",
            "Training loss: 1.9409, Training accuracy: 0.3808\n",
            "Validation loss: 1.9191, Validation accuracy: 0.3883\n",
            "Saving ...\n",
            "\n",
            "Epoch 2:\n",
            "Training loss: 1.8825, Training accuracy: 0.4462\n",
            "Validation loss: 1.8714, Validation accuracy: 0.4513\n",
            "Saving ...\n",
            "\n",
            "Epoch 3:\n",
            "Training loss: 1.8464, Training accuracy: 0.4861\n",
            "Validation loss: 1.8419, Validation accuracy: 0.4874\n",
            "Saving ...\n",
            "\n",
            "Epoch 4:\n",
            "Training loss: 1.8172, Training accuracy: 0.5161\n",
            "Validation loss: 1.8236, Validation accuracy: 0.5019\n",
            "Saving ...\n",
            "\n",
            "Epoch 5:\n",
            "Training loss: 1.7949, Training accuracy: 0.5415\n",
            "Validation loss: 1.8022, Validation accuracy: 0.5367\n",
            "Saving ...\n",
            "\n",
            "Epoch 6:\n",
            "Training loss: 1.7766, Training accuracy: 0.5619\n",
            "Validation loss: 1.7910, Validation accuracy: 0.5476\n",
            "Saving ...\n",
            "\n",
            "Epoch 7:\n",
            "Training loss: 1.7613, Training accuracy: 0.5787\n",
            "Validation loss: 1.7768, Validation accuracy: 0.5716\n",
            "Saving ...\n",
            "\n",
            "Epoch 8:\n",
            "Training loss: 1.7475, Training accuracy: 0.5955\n",
            "Validation loss: 1.7615, Validation accuracy: 0.5977\n",
            "Saving ...\n",
            "\n",
            "Epoch 9:\n",
            "Training loss: 1.7350, Training accuracy: 0.6121\n",
            "Validation loss: 1.7535, Validation accuracy: 0.6028\n",
            "Saving ...\n",
            "\n",
            "==================================================\n",
            "==> Optimization finished! Best validation accuracy: 0.6028\n",
            "No.3 Combination!\n",
            "Current LR: 0.01, Weight decay: 1e-05\n",
            "==> Training starts!\n",
            "==================================================\n",
            "Epoch 0:\n",
            "Training loss: 2.0402, Training accuracy: 0.3044\n",
            "Validation loss: 2.0162, Validation accuracy: 0.3003\n",
            "Saving ...\n",
            "\n",
            "Epoch 1:\n",
            "Training loss: 1.9331, Training accuracy: 0.3933\n",
            "Validation loss: 1.9119, Validation accuracy: 0.4106\n",
            "Saving ...\n",
            "\n",
            "Epoch 2:\n",
            "Training loss: 1.8751, Training accuracy: 0.4595\n",
            "Validation loss: 1.8516, Validation accuracy: 0.4887\n",
            "Saving ...\n",
            "\n",
            "Epoch 3:\n",
            "Training loss: 1.8378, Training accuracy: 0.4996\n",
            "Validation loss: 1.8379, Validation accuracy: 0.4958\n",
            "Saving ...\n",
            "\n",
            "Epoch 4:\n",
            "Training loss: 1.8113, Training accuracy: 0.5253\n",
            "Validation loss: 1.8159, Validation accuracy: 0.5225\n",
            "Saving ...\n",
            "\n",
            "Epoch 5:\n",
            "Training loss: 1.7909, Training accuracy: 0.5476\n",
            "Validation loss: 1.7952, Validation accuracy: 0.5438\n",
            "Saving ...\n",
            "\n",
            "Epoch 6:\n",
            "Training loss: 1.7732, Training accuracy: 0.5664\n",
            "Validation loss: 1.7861, Validation accuracy: 0.5533\n",
            "Saving ...\n",
            "\n",
            "Epoch 7:\n",
            "Training loss: 1.7589, Training accuracy: 0.5837\n",
            "Validation loss: 1.7843, Validation accuracy: 0.5650\n",
            "Saving ...\n",
            "\n",
            "Epoch 8:\n",
            "Training loss: 1.7453, Training accuracy: 0.6006\n",
            "Validation loss: 1.7744, Validation accuracy: 0.5739\n",
            "Saving ...\n",
            "\n",
            "Epoch 9:\n",
            "Training loss: 1.7338, Training accuracy: 0.6151\n",
            "Validation loss: 1.7669, Validation accuracy: 0.5887\n",
            "Saving ...\n",
            "\n",
            "==================================================\n",
            "==> Optimization finished! Best validation accuracy: 0.5887\n",
            "No.4 Combination!\n",
            "Current LR: 0.05500000000000001, Weight decay: 5e-05\n",
            "==> Training starts!\n",
            "==================================================\n",
            "Epoch 0:\n",
            "Training loss: 2.0193, Training accuracy: 0.2855\n",
            "Validation loss: 1.9669, Validation accuracy: 0.3474\n",
            "Saving ...\n",
            "\n",
            "Epoch 1:\n",
            "Training loss: 1.9183, Training accuracy: 0.4038\n",
            "Validation loss: 1.8971, Validation accuracy: 0.4320\n",
            "Saving ...\n",
            "\n",
            "Epoch 2:\n",
            "Training loss: 1.8712, Training accuracy: 0.4529\n",
            "Validation loss: 1.8536, Validation accuracy: 0.4706\n",
            "Saving ...\n",
            "\n",
            "Epoch 3:\n",
            "Training loss: 1.8393, Training accuracy: 0.4870\n",
            "Validation loss: 1.8230, Validation accuracy: 0.5065\n",
            "Saving ...\n",
            "\n",
            "Epoch 4:\n",
            "Training loss: 1.8154, Training accuracy: 0.5143\n",
            "Validation loss: 1.8128, Validation accuracy: 0.5159\n",
            "Saving ...\n",
            "\n",
            "Epoch 5:\n",
            "Training loss: 1.7960, Training accuracy: 0.5403\n",
            "Validation loss: 1.7880, Validation accuracy: 0.5571\n",
            "Saving ...\n",
            "\n",
            "Epoch 6:\n",
            "Training loss: 1.7805, Training accuracy: 0.5606\n",
            "Validation loss: 1.7877, Validation accuracy: 0.5540\n",
            "\n",
            "Epoch 7:\n",
            "Training loss: 1.7662, Training accuracy: 0.5864\n",
            "Validation loss: 1.7864, Validation accuracy: 0.5736\n",
            "Saving ...\n",
            "\n",
            "Epoch 8:\n",
            "Training loss: 1.7526, Training accuracy: 0.6069\n",
            "Validation loss: 1.7666, Validation accuracy: 0.5954\n",
            "Saving ...\n",
            "\n",
            "Epoch 9:\n",
            "Training loss: 1.7410, Training accuracy: 0.6258\n",
            "Validation loss: 1.7618, Validation accuracy: 0.6023\n",
            "Saving ...\n",
            "\n",
            "==================================================\n",
            "==> Optimization finished! Best validation accuracy: 0.6023\n",
            "No.5 Combination!\n",
            "Current LR: 0.05500000000000001, Weight decay: 3e-05\n",
            "==> Training starts!\n",
            "==================================================\n",
            "Epoch 0:\n",
            "Training loss: 2.0260, Training accuracy: 0.2694\n",
            "Validation loss: 1.9570, Validation accuracy: 0.3347\n",
            "Saving ...\n",
            "\n",
            "Epoch 1:\n",
            "Training loss: 1.9337, Training accuracy: 0.3799\n",
            "Validation loss: 1.9057, Validation accuracy: 0.4128\n",
            "Saving ...\n",
            "\n",
            "Epoch 2:\n",
            "Training loss: 1.8801, Training accuracy: 0.4459\n",
            "Validation loss: 1.8544, Validation accuracy: 0.4712\n",
            "Saving ...\n",
            "\n",
            "Epoch 3:\n",
            "Training loss: 1.8408, Training accuracy: 0.4881\n",
            "Validation loss: 1.8261, Validation accuracy: 0.5090\n",
            "Saving ...\n",
            "\n",
            "Epoch 4:\n",
            "Training loss: 1.8166, Training accuracy: 0.5137\n",
            "Validation loss: 1.8052, Validation accuracy: 0.5111\n",
            "Saving ...\n",
            "\n",
            "Epoch 5:\n",
            "Training loss: 1.7966, Training accuracy: 0.5377\n",
            "Validation loss: 1.7895, Validation accuracy: 0.5419\n",
            "Saving ...\n",
            "\n",
            "Epoch 6:\n",
            "Training loss: 1.7809, Training accuracy: 0.5566\n",
            "Validation loss: 1.7705, Validation accuracy: 0.5672\n",
            "Saving ...\n",
            "\n",
            "Epoch 7:\n",
            "Training loss: 1.7662, Training accuracy: 0.5772\n",
            "Validation loss: 1.7629, Validation accuracy: 0.5873\n",
            "Saving ...\n",
            "\n",
            "Epoch 8:\n",
            "Training loss: 1.7535, Training accuracy: 0.5986\n",
            "Validation loss: 1.7585, Validation accuracy: 0.5989\n",
            "Saving ...\n",
            "\n",
            "Epoch 9:\n",
            "Training loss: 1.7416, Training accuracy: 0.6162\n",
            "Validation loss: 1.7644, Validation accuracy: 0.5909\n",
            "\n",
            "==================================================\n",
            "==> Optimization finished! Best validation accuracy: 0.5989\n",
            "No.6 Combination!\n",
            "Current LR: 0.05500000000000001, Weight decay: 1e-05\n",
            "==> Training starts!\n",
            "==================================================\n",
            "Epoch 0:\n",
            "Training loss: 2.0175, Training accuracy: 0.2725\n",
            "Validation loss: 1.9882, Validation accuracy: 0.3146\n",
            "Saving ...\n",
            "\n",
            "Epoch 1:\n",
            "Training loss: 1.9242, Training accuracy: 0.3957\n",
            "Validation loss: 1.8999, Validation accuracy: 0.4299\n",
            "Saving ...\n",
            "\n",
            "Epoch 2:\n",
            "Training loss: 1.8728, Training accuracy: 0.4545\n",
            "Validation loss: 1.8487, Validation accuracy: 0.4788\n",
            "Saving ...\n",
            "\n",
            "Epoch 3:\n",
            "Training loss: 1.8379, Training accuracy: 0.4938\n",
            "Validation loss: 1.8172, Validation accuracy: 0.5041\n",
            "Saving ...\n",
            "\n",
            "Epoch 4:\n",
            "Training loss: 1.8132, Training accuracy: 0.5200\n",
            "Validation loss: 1.8036, Validation accuracy: 0.5269\n",
            "Saving ...\n",
            "\n",
            "Epoch 5:\n",
            "Training loss: 1.7926, Training accuracy: 0.5462\n",
            "Validation loss: 1.7865, Validation accuracy: 0.5504\n",
            "Saving ...\n",
            "\n",
            "Epoch 6:\n",
            "Training loss: 1.7760, Training accuracy: 0.5697\n",
            "Validation loss: 1.7779, Validation accuracy: 0.5753\n",
            "Saving ...\n",
            "\n",
            "Epoch 7:\n",
            "Training loss: 1.7609, Training accuracy: 0.5947\n",
            "Validation loss: 1.7555, Validation accuracy: 0.6066\n",
            "Saving ...\n",
            "\n",
            "Epoch 8:\n",
            "Training loss: 1.7478, Training accuracy: 0.6152\n",
            "Validation loss: 1.7557, Validation accuracy: 0.6088\n",
            "Saving ...\n",
            "\n",
            "Epoch 9:\n",
            "Training loss: 1.7345, Training accuracy: 0.6344\n",
            "Validation loss: 1.7475, Validation accuracy: 0.6214\n",
            "Saving ...\n",
            "\n",
            "==================================================\n",
            "==> Optimization finished! Best validation accuracy: 0.6214\n",
            "No.7 Combination!\n",
            "Current LR: 0.1, Weight decay: 5e-05\n",
            "==> Training starts!\n",
            "==================================================\n",
            "Epoch 0:\n",
            "Training loss: 2.0363, Training accuracy: 0.2510\n",
            "Validation loss: 2.0043, Validation accuracy: 0.3109\n",
            "Saving ...\n",
            "\n",
            "Epoch 1:\n",
            "Training loss: 1.9612, Training accuracy: 0.3453\n",
            "Validation loss: 1.9460, Validation accuracy: 0.3709\n",
            "Saving ...\n",
            "\n",
            "Epoch 2:\n"
          ]
        },
        {
          "output_type": "error",
          "ename": "KeyboardInterrupt",
          "evalue": "ignored",
          "traceback": [
            "\u001b[0;31m---------------------------------------------------------------------------\u001b[0m",
            "\u001b[0;31mKeyboardInterrupt\u001b[0m                         Traceback (most recent call last)",
            "\u001b[0;32m<ipython-input-10-10db4e3cffa1>\u001b[0m in \u001b[0;36m<module>\u001b[0;34m\u001b[0m\n\u001b[1;32m     22\u001b[0m         \u001b[0mhpt_optimizer\u001b[0m \u001b[0;34m=\u001b[0m \u001b[0moptim\u001b[0m\u001b[0;34m.\u001b[0m\u001b[0mSGD\u001b[0m\u001b[0;34m(\u001b[0m\u001b[0mhpt_net\u001b[0m\u001b[0;34m.\u001b[0m\u001b[0mparameters\u001b[0m\u001b[0;34m(\u001b[0m\u001b[0;34m)\u001b[0m\u001b[0;34m,\u001b[0m \u001b[0mlr\u001b[0m\u001b[0;34m=\u001b[0m\u001b[0mhpt_lr\u001b[0m\u001b[0;34m,\u001b[0m \u001b[0mmomentum\u001b[0m\u001b[0;34m=\u001b[0m\u001b[0;36m0.9\u001b[0m\u001b[0;34m,\u001b[0m \u001b[0mweight_decay\u001b[0m \u001b[0;34m=\u001b[0m \u001b[0mhpt_regl2\u001b[0m\u001b[0;34m)\u001b[0m\u001b[0;34m\u001b[0m\u001b[0;34m\u001b[0m\u001b[0m\n\u001b[1;32m     23\u001b[0m \u001b[0;34m\u001b[0m\u001b[0m\n\u001b[0;32m---> 24\u001b[0;31m         \u001b[0mbest_val_acc\u001b[0m\u001b[0;34m,\u001b[0m \u001b[0mloss_acc_LRdecay\u001b[0m \u001b[0;34m=\u001b[0m \u001b[0mtrain_valid\u001b[0m \u001b[0;34m(\u001b[0m\u001b[0mhpt_net\u001b[0m\u001b[0;34m,\u001b[0m \u001b[0mEPOCHS\u001b[0m\u001b[0;34m,\u001b[0m \u001b[0mhpt_criterion\u001b[0m\u001b[0;34m,\u001b[0m \u001b[0mhpt_optimizer\u001b[0m\u001b[0;34m,\u001b[0m \u001b[0mhpt_lr\u001b[0m\u001b[0;34m,\u001b[0m \u001b[0mhpt_regl2\u001b[0m\u001b[0;34m)\u001b[0m\u001b[0;34m\u001b[0m\u001b[0;34m\u001b[0m\u001b[0m\n\u001b[0m\u001b[1;32m     25\u001b[0m \u001b[0;34m\u001b[0m\u001b[0m\n\u001b[1;32m     26\u001b[0m         \u001b[0mhpt\u001b[0m\u001b[0;34m.\u001b[0m\u001b[0mappend\u001b[0m\u001b[0;34m(\u001b[0m\u001b[0;34m[\u001b[0m\u001b[0mhpt_lr\u001b[0m\u001b[0;34m,\u001b[0m \u001b[0mhpt_regl2\u001b[0m\u001b[0;34m,\u001b[0m \u001b[0mbest_val_acc\u001b[0m\u001b[0;34m]\u001b[0m\u001b[0;34m)\u001b[0m\u001b[0;34m\u001b[0m\u001b[0;34m\u001b[0m\u001b[0m\n",
            "\u001b[0;32m<ipython-input-9-dbc4f999d868>\u001b[0m in \u001b[0;36mtrain_valid\u001b[0;34m(net, EPOCHS, criterion, optimizer, current_learning_rate, current_reg_l2)\u001b[0m\n\u001b[1;32m    105\u001b[0m \u001b[0;34m\u001b[0m\u001b[0m\n\u001b[1;32m    106\u001b[0m             \u001b[0;31m# count the number of correctly predicted samples in the current batch\u001b[0m\u001b[0;34m\u001b[0m\u001b[0;34m\u001b[0m\u001b[0;34m\u001b[0m\u001b[0m\n\u001b[0;32m--> 107\u001b[0;31m             \u001b[0mtrain_loss\u001b[0m \u001b[0;34m+=\u001b[0m \u001b[0mloss\u001b[0m\u001b[0;34m.\u001b[0m\u001b[0mitem\u001b[0m\u001b[0;34m(\u001b[0m\u001b[0;34m)\u001b[0m\u001b[0;34m\u001b[0m\u001b[0;34m\u001b[0m\u001b[0m\n\u001b[0m\u001b[1;32m    108\u001b[0m             \u001b[0m_\u001b[0m\u001b[0;34m,\u001b[0m \u001b[0mpredicted\u001b[0m \u001b[0;34m=\u001b[0m \u001b[0mtorch\u001b[0m\u001b[0;34m.\u001b[0m\u001b[0mmax\u001b[0m\u001b[0;34m(\u001b[0m\u001b[0moutputs\u001b[0m\u001b[0;34m.\u001b[0m\u001b[0mdata\u001b[0m\u001b[0;34m,\u001b[0m \u001b[0;36m1\u001b[0m\u001b[0;34m)\u001b[0m\u001b[0;34m\u001b[0m\u001b[0;34m\u001b[0m\u001b[0m\n\u001b[1;32m    109\u001b[0m             \u001b[0mcorrect_examples\u001b[0m \u001b[0;34m+=\u001b[0m \u001b[0;34m(\u001b[0m\u001b[0mpredicted\u001b[0m \u001b[0;34m==\u001b[0m \u001b[0mtargets\u001b[0m\u001b[0;34m)\u001b[0m\u001b[0;34m.\u001b[0m\u001b[0msum\u001b[0m\u001b[0;34m(\u001b[0m\u001b[0;34m)\u001b[0m\u001b[0;34m.\u001b[0m\u001b[0mitem\u001b[0m\u001b[0;34m(\u001b[0m\u001b[0;34m)\u001b[0m\u001b[0;34m\u001b[0m\u001b[0;34m\u001b[0m\u001b[0m\n",
            "\u001b[0;31mKeyboardInterrupt\u001b[0m: "
          ]
        }
      ]
    },
    {
      "cell_type": "code",
      "source": [
        "# apply on test set and evaluate on \n"
      ],
      "metadata": {
        "id": "rWT8sYnIj1l_"
      },
      "execution_count": null,
      "outputs": []
    },
    {
      "cell_type": "code",
      "source": [
        "hpt_net = RotNN()\n",
        "hpt_net.to(device)\n",
        "\n",
        "hpt_criterion = nn.CrossEntropyLoss()\n",
        "hpt_optimizer = optim.SGD(hpt_net.parameters(), lr=0.1, momentum=0.9, weight_decay = 5e-4)\n",
        "\n",
        "best_val_acc, loss_acc_LRdecay = train_valid (hpt_net, 5, hpt_criterion, hpt_optimizer, 0.1, 5e-4)\n",
        "\n",
        "    "
      ],
      "metadata": {
        "colab": {
          "base_uri": "https://localhost:8080/"
        },
        "id": "1MEfrgCl3u3H",
        "outputId": "061b2c9f-739b-4bbb-e964-a95c98e3418c"
      },
      "execution_count": 25,
      "outputs": [
        {
          "output_type": "stream",
          "name": "stdout",
          "text": [
            "==> Training starts!\n",
            "==================================================\n",
            "Epoch 0:\n",
            "Training loss: 2.0431, Training accuracy: 0.2460\n",
            "Validation loss: 2.0320, Validation accuracy: 0.2663\n",
            "Saving ...\n",
            "\n",
            "Epoch 1:\n",
            "Training loss: 1.9911, Training accuracy: 0.2901\n",
            "Validation loss: 2.0322, Validation accuracy: 0.2933\n",
            "Saving ...\n",
            "\n",
            "Epoch 2:\n",
            "Training loss: 1.9662, Training accuracy: 0.3414\n",
            "Validation loss: 1.9480, Validation accuracy: 0.3599\n",
            "Saving ...\n",
            "\n",
            "Epoch 3:\n",
            "Training loss: 1.9329, Training accuracy: 0.3845\n",
            "Validation loss: 1.9855, Validation accuracy: 0.3333\n",
            "\n",
            "Epoch 4:\n",
            "Training loss: 1.9171, Training accuracy: 0.4022\n",
            "Validation loss: 1.9980, Validation accuracy: 0.3358\n",
            "\n",
            "==================================================\n",
            "==> Optimization finished! Best validation accuracy: 0.3599\n"
          ]
        }
      ]
    },
    {
      "cell_type": "code",
      "source": [],
      "metadata": {
        "id": "zcBMzyX4v5U3"
      },
      "execution_count": null,
      "outputs": []
    },
    {
      "cell_type": "code",
      "source": [
        "plt.plot(np.arange(0, 20), np.asarray(epoch_acc_decay)[:, 1], marker='.')\n",
        "plt.grid(True)\n",
        "plt.title(\"Epochs v.s. Accuracy with Learning Rate Decay\")\n",
        "plt.xlabel('Epoch')\n",
        "plt.ylabel('Validation Accuracy')\n",
        "plt.show()\n",
        "\n",
        "plt.plot(np.arange(0, 20), np.asarray(epoch_acc_decay)[:, 0], marker='.')\n",
        "plt.grid(True)\n",
        "plt.title(\"Epochs v.s. Loss with Learning Rate Decay\")\n",
        "plt.xlabel('Epoch')\n",
        "plt.ylabel('Validation Loss')\n",
        "plt.show()"
      ],
      "metadata": {
        "colab": {
          "base_uri": "https://localhost:8080/",
          "height": 573
        },
        "id": "j7yS38Us0Urv",
        "outputId": "5d87226c-662c-43b0-d43a-520b2e1af253"
      },
      "execution_count": null,
      "outputs": [
        {
          "output_type": "display_data",
          "data": {
            "text/plain": [
              "<Figure size 432x288 with 1 Axes>"
            ],
            "image/png": "[encoded data removed]"
          },
          "metadata": {
            "needs_background": "light"
          }
        },
        {
          "output_type": "display_data",
          "data": {
            "text/plain": [
              "<Figure size 432x288 with 1 Axes>"
            ],
            "image/png": "[encoded data removed]"
          },
          "metadata": {
            "needs_background": "light"
          }
        }
      ]
    }
  ],
  "metadata": {
    "accelerator": "GPU",
    "colab": {
      "provenance": []
    },
    "kernelspec": {
      "display_name": "Python 3.9.7",
      "language": "python",
      "name": "python3"
    },
    "language_info": {
      "codemirror_mode": {
        "name": "ipython",
        "version": 3
      },
      "file_extension": ".py",
      "mimetype": "text/x-python",
      "name": "python",
      "nbconvert_exporter": "python",
      "pygments_lexer": "ipython3",
      "version": "3.9.7"
    },
    "vscode": {
      "interpreter": {
        "hash": "1e06c53748c14b23090e12b4fccdda9ee8ab5c2813816b27f2e90702be89e9c2"
      }
    },
    "gpuClass": "standard"
  },
  "nbformat": 4,
  "nbformat_minor": 0
}